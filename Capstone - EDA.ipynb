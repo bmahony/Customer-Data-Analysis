{
 "cells": [
  {
   "cell_type": "code",
   "execution_count": 97,
   "metadata": {},
   "outputs": [],
   "source": [
    "import pandas as pd\n",
    "import numpy as np\n",
    "import matplotlib.pyplot as plt\n",
    "import seaborn as sns\n",
    "from sklearn.preprocessing import StandardScaler\n",
    "import datetime as dt"
   ]
  },
  {
   "cell_type": "code",
   "execution_count": 2,
   "metadata": {},
   "outputs": [],
   "source": [
    "df = pd.read_excel('online_retail_wrangled.xlsx')"
   ]
  },
  {
   "cell_type": "code",
   "execution_count": 3,
   "metadata": {},
   "outputs": [],
   "source": [
    "df.drop('Unnamed: 0',axis=1,inplace=True)"
   ]
  },
  {
   "cell_type": "code",
   "execution_count": 4,
   "metadata": {},
   "outputs": [
    {
     "data": {
      "text/html": [
       "<div>\n",
       "<style scoped>\n",
       "    .dataframe tbody tr th:only-of-type {\n",
       "        vertical-align: middle;\n",
       "    }\n",
       "\n",
       "    .dataframe tbody tr th {\n",
       "        vertical-align: top;\n",
       "    }\n",
       "\n",
       "    .dataframe thead th {\n",
       "        text-align: right;\n",
       "    }\n",
       "</style>\n",
       "<table border=\"1\" class=\"dataframe\">\n",
       "  <thead>\n",
       "    <tr style=\"text-align: right;\">\n",
       "      <th></th>\n",
       "      <th>Invoice</th>\n",
       "      <th>StockCode</th>\n",
       "      <th>Description</th>\n",
       "      <th>Quantity</th>\n",
       "      <th>InvoiceDate</th>\n",
       "      <th>Price</th>\n",
       "      <th>Customer ID</th>\n",
       "      <th>Country</th>\n",
       "      <th>Item Total</th>\n",
       "    </tr>\n",
       "  </thead>\n",
       "  <tbody>\n",
       "    <tr>\n",
       "      <th>0</th>\n",
       "      <td>489434</td>\n",
       "      <td>85048</td>\n",
       "      <td>15CM CHRISTMAS GLASS BALL 20 LIGHTS</td>\n",
       "      <td>12</td>\n",
       "      <td>2009-12-01 07:45:00</td>\n",
       "      <td>6.95</td>\n",
       "      <td>13085</td>\n",
       "      <td>United Kingdom</td>\n",
       "      <td>83.4</td>\n",
       "    </tr>\n",
       "    <tr>\n",
       "      <th>1</th>\n",
       "      <td>489434</td>\n",
       "      <td>79323P</td>\n",
       "      <td>PINK CHERRY LIGHTS</td>\n",
       "      <td>12</td>\n",
       "      <td>2009-12-01 07:45:00</td>\n",
       "      <td>6.75</td>\n",
       "      <td>13085</td>\n",
       "      <td>United Kingdom</td>\n",
       "      <td>81.0</td>\n",
       "    </tr>\n",
       "    <tr>\n",
       "      <th>2</th>\n",
       "      <td>489434</td>\n",
       "      <td>79323W</td>\n",
       "      <td>WHITE CHERRY LIGHTS</td>\n",
       "      <td>12</td>\n",
       "      <td>2009-12-01 07:45:00</td>\n",
       "      <td>6.75</td>\n",
       "      <td>13085</td>\n",
       "      <td>United Kingdom</td>\n",
       "      <td>81.0</td>\n",
       "    </tr>\n",
       "    <tr>\n",
       "      <th>3</th>\n",
       "      <td>489434</td>\n",
       "      <td>22041</td>\n",
       "      <td>RECORD FRAME 7\" SINGLE SIZE</td>\n",
       "      <td>48</td>\n",
       "      <td>2009-12-01 07:45:00</td>\n",
       "      <td>2.10</td>\n",
       "      <td>13085</td>\n",
       "      <td>United Kingdom</td>\n",
       "      <td>100.8</td>\n",
       "    </tr>\n",
       "    <tr>\n",
       "      <th>4</th>\n",
       "      <td>489434</td>\n",
       "      <td>21232</td>\n",
       "      <td>STRAWBERRY CERAMIC TRINKET BOX</td>\n",
       "      <td>24</td>\n",
       "      <td>2009-12-01 07:45:00</td>\n",
       "      <td>1.25</td>\n",
       "      <td>13085</td>\n",
       "      <td>United Kingdom</td>\n",
       "      <td>30.0</td>\n",
       "    </tr>\n",
       "  </tbody>\n",
       "</table>\n",
       "</div>"
      ],
      "text/plain": [
       "  Invoice StockCode                          Description  Quantity  \\\n",
       "0  489434     85048  15CM CHRISTMAS GLASS BALL 20 LIGHTS        12   \n",
       "1  489434    79323P                   PINK CHERRY LIGHTS        12   \n",
       "2  489434    79323W                  WHITE CHERRY LIGHTS        12   \n",
       "3  489434     22041         RECORD FRAME 7\" SINGLE SIZE         48   \n",
       "4  489434     21232       STRAWBERRY CERAMIC TRINKET BOX        24   \n",
       "\n",
       "          InvoiceDate  Price  Customer ID         Country  Item Total  \n",
       "0 2009-12-01 07:45:00   6.95        13085  United Kingdom        83.4  \n",
       "1 2009-12-01 07:45:00   6.75        13085  United Kingdom        81.0  \n",
       "2 2009-12-01 07:45:00   6.75        13085  United Kingdom        81.0  \n",
       "3 2009-12-01 07:45:00   2.10        13085  United Kingdom       100.8  \n",
       "4 2009-12-01 07:45:00   1.25        13085  United Kingdom        30.0  "
      ]
     },
     "execution_count": 4,
     "metadata": {},
     "output_type": "execute_result"
    }
   ],
   "source": [
    "df.head()"
   ]
  },
  {
   "cell_type": "code",
   "execution_count": 13,
   "metadata": {},
   "outputs": [
    {
     "data": {
      "text/plain": [
       "0         2009-12-01 07:45:00\n",
       "1         2009-12-01 07:45:00\n",
       "2         2009-12-01 07:45:00\n",
       "3         2009-12-01 07:45:00\n",
       "4         2009-12-01 07:45:00\n",
       "                 ...         \n",
       "417074    2010-12-09 20:01:00\n",
       "417075    2010-12-09 20:01:00\n",
       "417076    2010-12-09 20:01:00\n",
       "417062    2010-12-09 20:01:00\n",
       "417110    2010-12-09 20:01:00\n",
       "Name: InvoiceDate, Length: 520627, dtype: object"
      ]
     },
     "execution_count": 13,
     "metadata": {},
     "output_type": "execute_result"
    }
   ],
   "source": [
    "df['InvoiceDate'].dt.strftime('%y-%d-%m %h:%m:%s').sort_values()"
   ]
  },
  {
   "cell_type": "markdown",
   "metadata": {},
   "source": [
    "#### Customer Feature Engineering\n",
    "\n",
    "At this point in our EDA, we want to engineer features related to our RFM analysis and otherwise helpful to our analysis. These include: total spending by customer, number of purchases, time since last purchase, etc. We'll use a pivot table to calculate this information all at once."
   ]
  },
  {
   "cell_type": "code",
   "execution_count": 5,
   "metadata": {},
   "outputs": [],
   "source": [
    "cust_purchases = pd.pivot_table(df,index=['Customer ID'],values=['Invoice','InvoiceDate','Item Total'],aggfunc={'Invoice':pd.Series.nunique,'InvoiceDate':np.max,'Item Total':np.sum})"
   ]
  },
  {
   "cell_type": "code",
   "execution_count": 6,
   "metadata": {},
   "outputs": [
    {
     "data": {
      "text/html": [
       "<div>\n",
       "<style scoped>\n",
       "    .dataframe tbody tr th:only-of-type {\n",
       "        vertical-align: middle;\n",
       "    }\n",
       "\n",
       "    .dataframe tbody tr th {\n",
       "        vertical-align: top;\n",
       "    }\n",
       "\n",
       "    .dataframe thead th {\n",
       "        text-align: right;\n",
       "    }\n",
       "</style>\n",
       "<table border=\"1\" class=\"dataframe\">\n",
       "  <thead>\n",
       "    <tr style=\"text-align: right;\">\n",
       "      <th></th>\n",
       "      <th>Invoice</th>\n",
       "      <th>InvoiceDate</th>\n",
       "      <th>Item Total</th>\n",
       "    </tr>\n",
       "    <tr>\n",
       "      <th>Customer ID</th>\n",
       "      <th></th>\n",
       "      <th></th>\n",
       "      <th></th>\n",
       "    </tr>\n",
       "  </thead>\n",
       "  <tbody>\n",
       "    <tr>\n",
       "      <th>1</th>\n",
       "      <td>1</td>\n",
       "      <td>2010-12-06 16:57:00</td>\n",
       "      <td>7272.41</td>\n",
       "    </tr>\n",
       "    <tr>\n",
       "      <th>2</th>\n",
       "      <td>1</td>\n",
       "      <td>2010-12-09 14:09:00</td>\n",
       "      <td>6382.71</td>\n",
       "    </tr>\n",
       "    <tr>\n",
       "      <th>3</th>\n",
       "      <td>1</td>\n",
       "      <td>2010-12-07 15:28:00</td>\n",
       "      <td>5457.72</td>\n",
       "    </tr>\n",
       "    <tr>\n",
       "      <th>4</th>\n",
       "      <td>1</td>\n",
       "      <td>2010-12-06 09:58:00</td>\n",
       "      <td>6471.71</td>\n",
       "    </tr>\n",
       "    <tr>\n",
       "      <th>5</th>\n",
       "      <td>1</td>\n",
       "      <td>2010-12-03 11:36:00</td>\n",
       "      <td>6369.56</td>\n",
       "    </tr>\n",
       "    <tr>\n",
       "      <th>...</th>\n",
       "      <td>...</td>\n",
       "      <td>...</td>\n",
       "      <td>...</td>\n",
       "    </tr>\n",
       "    <tr>\n",
       "      <th>18283</th>\n",
       "      <td>6</td>\n",
       "      <td>2010-11-22 15:30:00</td>\n",
       "      <td>641.77</td>\n",
       "    </tr>\n",
       "    <tr>\n",
       "      <th>18284</th>\n",
       "      <td>2</td>\n",
       "      <td>2010-10-06 12:31:00</td>\n",
       "      <td>436.68</td>\n",
       "    </tr>\n",
       "    <tr>\n",
       "      <th>18285</th>\n",
       "      <td>1</td>\n",
       "      <td>2010-02-17 10:24:00</td>\n",
       "      <td>427.00</td>\n",
       "    </tr>\n",
       "    <tr>\n",
       "      <th>18286</th>\n",
       "      <td>3</td>\n",
       "      <td>2010-08-20 11:57:00</td>\n",
       "      <td>1188.43</td>\n",
       "    </tr>\n",
       "    <tr>\n",
       "      <th>18287</th>\n",
       "      <td>5</td>\n",
       "      <td>2010-11-22 11:51:00</td>\n",
       "      <td>2340.61</td>\n",
       "    </tr>\n",
       "  </tbody>\n",
       "</table>\n",
       "<p>6327 rows × 3 columns</p>\n",
       "</div>"
      ],
      "text/plain": [
       "             Invoice         InvoiceDate  Item Total\n",
       "Customer ID                                         \n",
       "1                  1 2010-12-06 16:57:00     7272.41\n",
       "2                  1 2010-12-09 14:09:00     6382.71\n",
       "3                  1 2010-12-07 15:28:00     5457.72\n",
       "4                  1 2010-12-06 09:58:00     6471.71\n",
       "5                  1 2010-12-03 11:36:00     6369.56\n",
       "...              ...                 ...         ...\n",
       "18283              6 2010-11-22 15:30:00      641.77\n",
       "18284              2 2010-10-06 12:31:00      436.68\n",
       "18285              1 2010-02-17 10:24:00      427.00\n",
       "18286              3 2010-08-20 11:57:00     1188.43\n",
       "18287              5 2010-11-22 11:51:00     2340.61\n",
       "\n",
       "[6327 rows x 3 columns]"
      ]
     },
     "execution_count": 6,
     "metadata": {},
     "output_type": "execute_result"
    }
   ],
   "source": [
    "cust_purchases"
   ]
  },
  {
   "cell_type": "markdown",
   "metadata": {},
   "source": [
    "Now we have columns for each customer's frequency and monetary value. To generate a \"recency\" score, we'll generate a column that is the number of days since the customer's most recent purchase."
   ]
  },
  {
   "cell_type": "code",
   "execution_count": 14,
   "metadata": {},
   "outputs": [],
   "source": [
    "cust_purchases['lastday'] = dt.datetime(2010,12,9)"
   ]
  },
  {
   "cell_type": "code",
   "execution_count": null,
   "metadata": {},
   "outputs": [],
   "source": []
  },
  {
   "cell_type": "code",
   "execution_count": 15,
   "metadata": {},
   "outputs": [],
   "source": [
    "cust_purchases['last_transact'] = cust_purchases['lastday'] - cust_purchases['InvoiceDate']"
   ]
  },
  {
   "cell_type": "code",
   "execution_count": 17,
   "metadata": {},
   "outputs": [],
   "source": [
    "cust_purchases['last_transact'] = cust_purchases['last_transact'].dt.days"
   ]
  },
  {
   "cell_type": "code",
   "execution_count": 20,
   "metadata": {},
   "outputs": [],
   "source": [
    "cust_purchases.loc[cust_purchases['last_transact'] <= 0, 'last_transact'] = 0"
   ]
  },
  {
   "cell_type": "code",
   "execution_count": null,
   "metadata": {},
   "outputs": [],
   "source": []
  },
  {
   "cell_type": "code",
   "execution_count": 27,
   "metadata": {},
   "outputs": [],
   "source": [
    "cust_purchases.rename(columns={'Invoice':'freq','Item Total':'mv','last_transact':'rec'},inplace=True)\n",
    "cust_purchases.drop(['InvoiceDate','lastday'],axis=1,inplace=True)"
   ]
  },
  {
   "cell_type": "code",
   "execution_count": 28,
   "metadata": {},
   "outputs": [
    {
     "data": {
      "text/html": [
       "<div>\n",
       "<style scoped>\n",
       "    .dataframe tbody tr th:only-of-type {\n",
       "        vertical-align: middle;\n",
       "    }\n",
       "\n",
       "    .dataframe tbody tr th {\n",
       "        vertical-align: top;\n",
       "    }\n",
       "\n",
       "    .dataframe thead th {\n",
       "        text-align: right;\n",
       "    }\n",
       "</style>\n",
       "<table border=\"1\" class=\"dataframe\">\n",
       "  <thead>\n",
       "    <tr style=\"text-align: right;\">\n",
       "      <th></th>\n",
       "      <th>freq</th>\n",
       "      <th>mv</th>\n",
       "      <th>rec</th>\n",
       "    </tr>\n",
       "    <tr>\n",
       "      <th>Customer ID</th>\n",
       "      <th></th>\n",
       "      <th></th>\n",
       "      <th></th>\n",
       "    </tr>\n",
       "  </thead>\n",
       "  <tbody>\n",
       "    <tr>\n",
       "      <th>1</th>\n",
       "      <td>1</td>\n",
       "      <td>7272.41</td>\n",
       "      <td>2</td>\n",
       "    </tr>\n",
       "    <tr>\n",
       "      <th>2</th>\n",
       "      <td>1</td>\n",
       "      <td>6382.71</td>\n",
       "      <td>0</td>\n",
       "    </tr>\n",
       "    <tr>\n",
       "      <th>3</th>\n",
       "      <td>1</td>\n",
       "      <td>5457.72</td>\n",
       "      <td>1</td>\n",
       "    </tr>\n",
       "    <tr>\n",
       "      <th>4</th>\n",
       "      <td>1</td>\n",
       "      <td>6471.71</td>\n",
       "      <td>2</td>\n",
       "    </tr>\n",
       "    <tr>\n",
       "      <th>5</th>\n",
       "      <td>1</td>\n",
       "      <td>6369.56</td>\n",
       "      <td>5</td>\n",
       "    </tr>\n",
       "    <tr>\n",
       "      <th>...</th>\n",
       "      <td>...</td>\n",
       "      <td>...</td>\n",
       "      <td>...</td>\n",
       "    </tr>\n",
       "    <tr>\n",
       "      <th>18283</th>\n",
       "      <td>6</td>\n",
       "      <td>641.77</td>\n",
       "      <td>16</td>\n",
       "    </tr>\n",
       "    <tr>\n",
       "      <th>18284</th>\n",
       "      <td>2</td>\n",
       "      <td>436.68</td>\n",
       "      <td>63</td>\n",
       "    </tr>\n",
       "    <tr>\n",
       "      <th>18285</th>\n",
       "      <td>1</td>\n",
       "      <td>427.00</td>\n",
       "      <td>294</td>\n",
       "    </tr>\n",
       "    <tr>\n",
       "      <th>18286</th>\n",
       "      <td>3</td>\n",
       "      <td>1188.43</td>\n",
       "      <td>110</td>\n",
       "    </tr>\n",
       "    <tr>\n",
       "      <th>18287</th>\n",
       "      <td>5</td>\n",
       "      <td>2340.61</td>\n",
       "      <td>16</td>\n",
       "    </tr>\n",
       "  </tbody>\n",
       "</table>\n",
       "<p>6327 rows × 3 columns</p>\n",
       "</div>"
      ],
      "text/plain": [
       "             freq       mv  rec\n",
       "Customer ID                    \n",
       "1               1  7272.41    2\n",
       "2               1  6382.71    0\n",
       "3               1  5457.72    1\n",
       "4               1  6471.71    2\n",
       "5               1  6369.56    5\n",
       "...           ...      ...  ...\n",
       "18283           6   641.77   16\n",
       "18284           2   436.68   63\n",
       "18285           1   427.00  294\n",
       "18286           3  1188.43  110\n",
       "18287           5  2340.61   16\n",
       "\n",
       "[6327 rows x 3 columns]"
      ]
     },
     "execution_count": 28,
     "metadata": {},
     "output_type": "execute_result"
    }
   ],
   "source": [
    "cust_purchases"
   ]
  },
  {
   "cell_type": "code",
   "execution_count": 29,
   "metadata": {},
   "outputs": [
    {
     "data": {
      "text/html": [
       "<div>\n",
       "<style scoped>\n",
       "    .dataframe tbody tr th:only-of-type {\n",
       "        vertical-align: middle;\n",
       "    }\n",
       "\n",
       "    .dataframe tbody tr th {\n",
       "        vertical-align: top;\n",
       "    }\n",
       "\n",
       "    .dataframe thead th {\n",
       "        text-align: right;\n",
       "    }\n",
       "</style>\n",
       "<table border=\"1\" class=\"dataframe\">\n",
       "  <thead>\n",
       "    <tr style=\"text-align: right;\">\n",
       "      <th></th>\n",
       "      <th>freq</th>\n",
       "      <th>mv</th>\n",
       "      <th>rec</th>\n",
       "    </tr>\n",
       "  </thead>\n",
       "  <tbody>\n",
       "    <tr>\n",
       "      <th>count</th>\n",
       "      <td>6327.000000</td>\n",
       "      <td>6327.000000</td>\n",
       "      <td>6327.000000</td>\n",
       "    </tr>\n",
       "    <tr>\n",
       "      <th>mean</th>\n",
       "      <td>4.030978</td>\n",
       "      <td>1494.712126</td>\n",
       "      <td>116.099257</td>\n",
       "    </tr>\n",
       "    <tr>\n",
       "      <th>std</th>\n",
       "      <td>8.602067</td>\n",
       "      <td>7289.995315</td>\n",
       "      <td>109.444873</td>\n",
       "    </tr>\n",
       "    <tr>\n",
       "      <th>min</th>\n",
       "      <td>1.000000</td>\n",
       "      <td>-53594.360000</td>\n",
       "      <td>0.000000</td>\n",
       "    </tr>\n",
       "    <tr>\n",
       "      <th>25%</th>\n",
       "      <td>1.000000</td>\n",
       "      <td>138.665000</td>\n",
       "      <td>23.000000</td>\n",
       "    </tr>\n",
       "    <tr>\n",
       "      <th>50%</th>\n",
       "      <td>1.000000</td>\n",
       "      <td>467.500000</td>\n",
       "      <td>71.000000</td>\n",
       "    </tr>\n",
       "    <tr>\n",
       "      <th>75%</th>\n",
       "      <td>4.000000</td>\n",
       "      <td>1379.125000</td>\n",
       "      <td>196.000000</td>\n",
       "    </tr>\n",
       "    <tr>\n",
       "      <th>max</th>\n",
       "      <td>270.000000</td>\n",
       "      <td>341776.730000</td>\n",
       "      <td>372.000000</td>\n",
       "    </tr>\n",
       "  </tbody>\n",
       "</table>\n",
       "</div>"
      ],
      "text/plain": [
       "              freq             mv          rec\n",
       "count  6327.000000    6327.000000  6327.000000\n",
       "mean      4.030978    1494.712126   116.099257\n",
       "std       8.602067    7289.995315   109.444873\n",
       "min       1.000000  -53594.360000     0.000000\n",
       "25%       1.000000     138.665000    23.000000\n",
       "50%       1.000000     467.500000    71.000000\n",
       "75%       4.000000    1379.125000   196.000000\n",
       "max     270.000000  341776.730000   372.000000"
      ]
     },
     "execution_count": 29,
     "metadata": {},
     "output_type": "execute_result"
    }
   ],
   "source": [
    "cust_purchases.describe()"
   ]
  },
  {
   "cell_type": "markdown",
   "metadata": {},
   "source": [
    "Now, with the describe method, we can pull out some interesting information. \n",
    "* At least half of the customers have only made one purchase during the 18 months covered by this dataset.\n",
    "* Our mean monetary value per customer is greater than the 75th percentile, indicating that there are some customers with such a large monetary value that they are skewing our mean. Our median mv is roughly 1/3 of our mean mv, which means we should be cautious using that as a meaningful metric.\n",
    "* We see a similar skew in the recency of purchases - the average time elapsed since last purchase (i.e., the delta between the end of the dataset 9-12-2010 and the most recent transaction) is 116 days, but the 50th percentile is 71 days. \n"
   ]
  },
  {
   "cell_type": "code",
   "execution_count": 30,
   "metadata": {},
   "outputs": [
    {
     "data": {
      "text/plain": [
       "array([[<matplotlib.axes._subplots.AxesSubplot object at 0x000001F7E3D31288>,\n",
       "        <matplotlib.axes._subplots.AxesSubplot object at 0x000001F7EBAABBC8>],\n",
       "       [<matplotlib.axes._subplots.AxesSubplot object at 0x000001F7EEB007C8>,\n",
       "        <matplotlib.axes._subplots.AxesSubplot object at 0x000001F7EEFCF3C8>]],\n",
       "      dtype=object)"
      ]
     },
     "execution_count": 30,
     "metadata": {},
     "output_type": "execute_result"
    },
    {
     "data": {
      "image/png": "[encoded data removed]",
      "text/plain": [
       "<Figure size 576x396 with 4 Axes>"
      ]
     },
     "metadata": {},
     "output_type": "display_data"
    }
   ],
   "source": [
    "cust_purchases.hist()"
   ]
  },
  {
   "cell_type": "markdown",
   "metadata": {},
   "source": [
    "Upon looking at these graphs, it feels like there are some quick intuitions we can pull out. \n",
    "* The recency graph shows that a number of customers have a most recent purchase in the last 90 days. That, in combination with the relatively low frequency overall (i.e., the mean number of purchases per customer is 4) could indicate a recent uptick in customer acquisition. The end of the dataset is in September, which could indicate the beginning of a holiday season.\n",
    "* There are some customers with negative total values. Based on earlier analysis, these customers engagements span the length of the time period covered by the dataset (so they aren't for example caused by a number of returns at the beginning of the dataset time period).\n",
    "* The vast majority of users are low-frequency purchasers. This could indicate a potential area for investment in customer retention."
   ]
  },
  {
   "cell_type": "markdown",
   "metadata": {},
   "source": [
    "#### Checking for outliers\n",
    "\n",
    "We see that some outliers are exerting pressure on the skew of our data. Let's see how those shake out in practice."
   ]
  },
  {
   "cell_type": "code",
   "execution_count": 60,
   "metadata": {},
   "outputs": [],
   "source": [
    "mv = cust_purchases['mv']\n",
    "freq = cust_purchases['freq']\n",
    "rec = cust_purchases['rec']"
   ]
  },
  {
   "cell_type": "code",
   "execution_count": 67,
   "metadata": {},
   "outputs": [],
   "source": [
    "mv_idxr = mv.between(mv.quantile(.025),mv.quantile(.975))\n"
   ]
  },
  {
   "cell_type": "code",
   "execution_count": null,
   "metadata": {},
   "outputs": [],
   "source": [
    "cust = cust_purchases.loc[mv_idxr]"
   ]
  },
  {
   "cell_type": "code",
   "execution_count": 94,
   "metadata": {},
   "outputs": [
    {
     "data": {
      "text/plain": [
       "{'whiskers': [<matplotlib.lines.Line2D at 0x1f82a195688>,\n",
       "  <matplotlib.lines.Line2D at 0x1f82a1a5cc8>],\n",
       " 'caps': [<matplotlib.lines.Line2D at 0x1f82a1a5e08>,\n",
       "  <matplotlib.lines.Line2D at 0x1f82a1a5e88>],\n",
       " 'boxes': [<matplotlib.lines.Line2D at 0x1f82a1a52c8>],\n",
       " 'medians': [<matplotlib.lines.Line2D at 0x1f82a197cc8>],\n",
       " 'fliers': [<matplotlib.lines.Line2D at 0x1f82a197e08>],\n",
       " 'means': []}"
      ]
     },
     "execution_count": 94,
     "metadata": {},
     "output_type": "execute_result"
    },
    {
     "data": {
      "image/png": "[encoded data removed]",
      "text/plain": [
       "<Figure size 576x396 with 1 Axes>"
      ]
     },
     "metadata": {},
     "output_type": "display_data"
    }
   ],
   "source": [
    "plt.boxplot(cust['mv'])"
   ]
  },
  {
   "cell_type": "markdown",
   "metadata": {},
   "source": [
    "Based on the above, we can see that 95% of customers fall between close to 0 and nearly 8000 dollars. For the purposes of revenue generation through customer segmentation, it thus makes sense to remove \"negative value\" customers and those representing a significant portion of transactions. "
   ]
  },
  {
   "cell_type": "code",
   "execution_count": 92,
   "metadata": {},
   "outputs": [
    {
     "data": {
      "text/plain": [
       "{'whiskers': [<matplotlib.lines.Line2D at 0x1f829fc9388>,\n",
       "  <matplotlib.lines.Line2D at 0x1f829fdaa48>],\n",
       " 'caps': [<matplotlib.lines.Line2D at 0x1f829fdaf08>,\n",
       "  <matplotlib.lines.Line2D at 0x1f829fdac08>],\n",
       " 'boxes': [<matplotlib.lines.Line2D at 0x1f829fd0f48>],\n",
       " 'medians': [<matplotlib.lines.Line2D at 0x1f829fcb908>],\n",
       " 'fliers': [<matplotlib.lines.Line2D at 0x1f829fcbdc8>],\n",
       " 'means': []}"
      ]
     },
     "execution_count": 92,
     "metadata": {},
     "output_type": "execute_result"
    },
    {
     "data": {
      "image/png": "[encoded data removed]",
      "text/plain": [
       "<Figure size 576x396 with 1 Axes>"
      ]
     },
     "metadata": {},
     "output_type": "display_data"
    }
   ],
   "source": [
    "plt.boxplot(cust['rec'])"
   ]
  },
  {
   "cell_type": "code",
   "execution_count": 93,
   "metadata": {},
   "outputs": [
    {
     "data": {
      "text/plain": [
       "{'whiskers': [<matplotlib.lines.Line2D at 0x1f82a0edb48>,\n",
       "  <matplotlib.lines.Line2D at 0x1f82a13eec8>],\n",
       " 'caps': [<matplotlib.lines.Line2D at 0x1f82a13ef48>,\n",
       "  <matplotlib.lines.Line2D at 0x1f82a141bc8>],\n",
       " 'boxes': [<matplotlib.lines.Line2D at 0x1f82a13e808>],\n",
       " 'medians': [<matplotlib.lines.Line2D at 0x1f82a141d08>],\n",
       " 'fliers': [<matplotlib.lines.Line2D at 0x1f82a141d88>],\n",
       " 'means': []}"
      ]
     },
     "execution_count": 93,
     "metadata": {},
     "output_type": "execute_result"
    },
    {
     "data": {
      "image/png": "[encoded data removed]",
      "text/plain": [
       "<Figure size 576x396 with 1 Axes>"
      ]
     },
     "metadata": {},
     "output_type": "display_data"
    }
   ],
   "source": [
    "plt.boxplot(cust['freq'])"
   ]
  },
  {
   "cell_type": "markdown",
   "metadata": {},
   "source": [
    "Simply indexing to the middle 95% of customers in terms of monetary value has removed a lot of outliers in all dimensions. We can handle those extreme outliers in a separate, narrative analysis."
   ]
  },
  {
   "cell_type": "markdown",
   "metadata": {},
   "source": [
    "At this time we'll scale our data such that we can start to use unsupervised learning methods to segment our customer base."
   ]
  },
  {
   "cell_type": "code",
   "execution_count": 102,
   "metadata": {},
   "outputs": [],
   "source": [
    "scaler = StandardScaler()"
   ]
  },
  {
   "cell_type": "code",
   "execution_count": 104,
   "metadata": {},
   "outputs": [],
   "source": [
    "cust_scaled = scaler.fit_transform(cust)"
   ]
  },
  {
   "cell_type": "code",
   "execution_count": 113,
   "metadata": {},
   "outputs": [
    {
     "data": {
      "text/html": [
       "<div>\n",
       "<style scoped>\n",
       "    .dataframe tbody tr th:only-of-type {\n",
       "        vertical-align: middle;\n",
       "    }\n",
       "\n",
       "    .dataframe tbody tr th {\n",
       "        vertical-align: top;\n",
       "    }\n",
       "\n",
       "    .dataframe thead th {\n",
       "        text-align: right;\n",
       "    }\n",
       "</style>\n",
       "<table border=\"1\" class=\"dataframe\">\n",
       "  <thead>\n",
       "    <tr style=\"text-align: right;\">\n",
       "      <th></th>\n",
       "      <th>freq</th>\n",
       "      <th>mv</th>\n",
       "      <th>rec</th>\n",
       "    </tr>\n",
       "    <tr>\n",
       "      <th>Customer ID</th>\n",
       "      <th></th>\n",
       "      <th></th>\n",
       "      <th></th>\n",
       "    </tr>\n",
       "  </thead>\n",
       "  <tbody>\n",
       "    <tr>\n",
       "      <th>1</th>\n",
       "      <td>1</td>\n",
       "      <td>7272.41</td>\n",
       "      <td>2</td>\n",
       "    </tr>\n",
       "    <tr>\n",
       "      <th>2</th>\n",
       "      <td>1</td>\n",
       "      <td>6382.71</td>\n",
       "      <td>0</td>\n",
       "    </tr>\n",
       "    <tr>\n",
       "      <th>3</th>\n",
       "      <td>1</td>\n",
       "      <td>5457.72</td>\n",
       "      <td>1</td>\n",
       "    </tr>\n",
       "    <tr>\n",
       "      <th>4</th>\n",
       "      <td>1</td>\n",
       "      <td>6471.71</td>\n",
       "      <td>2</td>\n",
       "    </tr>\n",
       "    <tr>\n",
       "      <th>5</th>\n",
       "      <td>1</td>\n",
       "      <td>6369.56</td>\n",
       "      <td>5</td>\n",
       "    </tr>\n",
       "    <tr>\n",
       "      <th>...</th>\n",
       "      <td>...</td>\n",
       "      <td>...</td>\n",
       "      <td>...</td>\n",
       "    </tr>\n",
       "    <tr>\n",
       "      <th>18283</th>\n",
       "      <td>6</td>\n",
       "      <td>641.77</td>\n",
       "      <td>16</td>\n",
       "    </tr>\n",
       "    <tr>\n",
       "      <th>18284</th>\n",
       "      <td>2</td>\n",
       "      <td>436.68</td>\n",
       "      <td>63</td>\n",
       "    </tr>\n",
       "    <tr>\n",
       "      <th>18285</th>\n",
       "      <td>1</td>\n",
       "      <td>427.00</td>\n",
       "      <td>294</td>\n",
       "    </tr>\n",
       "    <tr>\n",
       "      <th>18286</th>\n",
       "      <td>3</td>\n",
       "      <td>1188.43</td>\n",
       "      <td>110</td>\n",
       "    </tr>\n",
       "    <tr>\n",
       "      <th>18287</th>\n",
       "      <td>5</td>\n",
       "      <td>2340.61</td>\n",
       "      <td>16</td>\n",
       "    </tr>\n",
       "  </tbody>\n",
       "</table>\n",
       "<p>6009 rows × 3 columns</p>\n",
       "</div>"
      ],
      "text/plain": [
       "             freq       mv  rec\n",
       "Customer ID                    \n",
       "1               1  7272.41    2\n",
       "2               1  6382.71    0\n",
       "3               1  5457.72    1\n",
       "4               1  6471.71    2\n",
       "5               1  6369.56    5\n",
       "...           ...      ...  ...\n",
       "18283           6   641.77   16\n",
       "18284           2   436.68   63\n",
       "18285           1   427.00  294\n",
       "18286           3  1188.43  110\n",
       "18287           5  2340.61   16\n",
       "\n",
       "[6009 rows x 3 columns]"
      ]
     },
     "execution_count": 113,
     "metadata": {},
     "output_type": "execute_result"
    }
   ],
   "source": [
    "cust"
   ]
  },
  {
   "cell_type": "code",
   "execution_count": 110,
   "metadata": {},
   "outputs": [],
   "source": [
    "new_df = pd.DataFrame(cust_scaled,columns=['freq','mv','rec'])"
   ]
  },
  {
   "cell_type": "code",
   "execution_count": 108,
   "metadata": {},
   "outputs": [
    {
     "data": {
      "text/plain": [
       "{'whiskers': [<matplotlib.lines.Line2D at 0x1f82a3468c8>,\n",
       "  <matplotlib.lines.Line2D at 0x1f82a35afc8>],\n",
       " 'caps': [<matplotlib.lines.Line2D at 0x1f82a35ad08>,\n",
       "  <matplotlib.lines.Line2D at 0x1f82a35f988>],\n",
       " 'boxes': [<matplotlib.lines.Line2D at 0x1f82a35a588>],\n",
       " 'medians': [<matplotlib.lines.Line2D at 0x1f82a35fe88>],\n",
       " 'fliers': [<matplotlib.lines.Line2D at 0x1f82a35ffc8>],\n",
       " 'means': []}"
      ]
     },
     "execution_count": 108,
     "metadata": {},
     "output_type": "execute_result"
    },
    {
     "data": {
      "image/png": "[encoded data removed]",
      "text/plain": [
       "<Figure size 576x396 with 1 Axes>"
      ]
     },
     "metadata": {},
     "output_type": "display_data"
    }
   ],
   "source": [
    "plt.boxplot(cust_scaled[0])"
   ]
  },
  {
   "cell_type": "code",
   "execution_count": 112,
   "metadata": {},
   "outputs": [],
   "source": [
    "new_df.to_csv('online_retail_scaled.csv')"
   ]
  },
  {
   "cell_type": "code",
   "execution_count": 114,
   "metadata": {},
   "outputs": [],
   "source": [
    "cust.to_excel('online_retail_cust_ids.xlsx')"
   ]
  },
  {
   "cell_type": "code",
   "execution_count": null,
   "metadata": {},
   "outputs": [],
   "source": []
  }
 ],
 "metadata": {
  "kernelspec": {
   "display_name": "Python 3",
   "language": "python",
   "name": "python3"
  },
  "language_info": {
   "codemirror_mode": {
    "name": "ipython",
    "version": 3
   },
   "file_extension": ".py",
   "mimetype": "text/x-python",
   "name": "python",
   "nbconvert_exporter": "python",
   "pygments_lexer": "ipython3",
   "version": "3.7.6"
  }
 },
 "nbformat": 4,
 "nbformat_minor": 4
}
